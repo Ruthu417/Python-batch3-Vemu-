{
 "cells": [
  {
   "cell_type": "code",
   "execution_count": 1,
   "metadata": {},
   "outputs": [
    {
     "name": "stdout",
     "output_type": "stream",
     "text": [
      "u\n",
      "Vowel\n"
     ]
    }
   ],
   "source": [
    "ch=input()\n",
    "if ch=='a' or ch=='e' or ch==\"i\" or ch==\"o\" or ch==\"u\":\n",
    "    print(\"Vowel\")\n",
    "else:\n",
    "    print(\"Consonant\")"
   ]
  },
  {
   "cell_type": "code",
   "execution_count": 4,
   "metadata": {},
   "outputs": [
    {
     "name": "stdout",
     "output_type": "stream",
     "text": [
      "u\n",
      "u is a Vowel\n"
     ]
    }
   ],
   "source": [
    "ch = input()\n",
    "# 10 comparisions\n",
    "if(ch=='A' or ch=='a' or ch=='E' or ch =='e' or ch=='I'\n",
    " or ch=='i' or ch=='O' or ch=='o' or ch=='U' or ch=='u'):\n",
    "    print(ch, \"is a Vowel\")\n",
    "else:\n",
    "    print(ch, \"is a Consonant\")\n"
   ]
  },
  {
   "cell_type": "code",
   "execution_count": 5,
   "metadata": {},
   "outputs": [
    {
     "name": "stdout",
     "output_type": "stream",
     "text": [
      "Vowel\n"
     ]
    }
   ],
   "source": [
    "vowels=\"aeiouAEIOU\"\n",
    "ch=input()\n",
    "# membership operators,\n",
    "if ch in vowels:\n",
    "    print(\"Vowel\")\n",
    "else:\n",
    "    print('Consonant')"
   ]
  },
  {
   "cell_type": "markdown",
   "metadata": {},
   "source": [
    "### Iterating Statements\n",
    "- looping statements\n",
    "- Statements to be iterated/repeated for multiple times\n",
    "- **for**\n",
    "    - syntax:\n",
    "        - for iterator in iterable:\n",
    "            - statements\n",
    "        - for iterator in range(len(iterable)):\n",
    "            - statements\n",
    "- **while**"
   ]
  },
  {
   "cell_type": "code",
   "execution_count": 8,
   "metadata": {
    "collapsed": true
   },
   "outputs": [
    {
     "name": "stdout",
     "output_type": "stream",
     "text": [
      "welcome to python\n",
      "welcome to python\n",
      "welcome to python\n",
      "welcome to python\n",
      "welcome to python\n",
      "welcome to python\n",
      "welcome to python\n",
      "welcome to python\n",
      "welcome to python\n",
      "welcome to python\n"
     ]
    }
   ],
   "source": [
    "# program to print \"welcome to python\" 10 times\n",
    "''' welcome to python\n",
    "welcome to python\n",
    "welcome to python\n",
    ".....\n",
    "welcome to python '''\n",
    "for num in range(11,21):\n",
    "    print(\"welcome to python\") # single statement"
   ]
  },
  {
   "cell_type": "markdown",
   "metadata": {},
   "source": [
    "**range()**\n",
    "- pre-defined function in Python\n",
    "- range of values/data\n",
    "- [1,11]:1,2,3,4,5,6,7,8,9,10,11(exclusive)\n",
    "- range(upper bound/stop)\n",
    "    - starts from 0 by default\n",
    "- range(lower bound,upper bound) \n",
    "    - upper bound is exclusive\n",
    "- [start:stop:step_count]  # \n",
    "    - [1:11:2] :\n"
   ]
  },
  {
   "cell_type": "code",
   "execution_count": 9,
   "metadata": {
    "collapsed": true
   },
   "outputs": [
    {
     "name": "stdout",
     "output_type": "stream",
     "text": [
      "30\n",
      "31\n",
      "33\n",
      "45\n"
     ]
    }
   ],
   "source": [
    "rn=range(30,45) # 14 values\n",
    "# print the numbers present in range(30 to 45)\n",
    "print(30) # printing the numbers\n",
    "print(31)\n",
    "print(33)\n",
    "print(45)"
   ]
  },
  {
   "cell_type": "code",
   "execution_count": 10,
   "metadata": {
    "collapsed": true
   },
   "outputs": [
    {
     "name": "stdout",
     "output_type": "stream",
     "text": [
      "30\n",
      "31\n",
      "32\n",
      "33\n",
      "34\n",
      "35\n",
      "36\n",
      "37\n",
      "38\n",
      "39\n",
      "40\n",
      "41\n",
      "42\n",
      "43\n",
      "44\n"
     ]
    }
   ],
   "source": [
    "for num in rn:\n",
    "    print(num)"
   ]
  },
  {
   "cell_type": "code",
   "execution_count": 13,
   "metadata": {
    "collapsed": true
   },
   "outputs": [
    {
     "name": "stdout",
     "output_type": "stream",
     "text": [
      "0\n",
      "1\n",
      "2\n",
      "3\n",
      "4\n",
      "5\n",
      "6\n",
      "7\n",
      "8\n",
      "9\n",
      "10\n",
      "11\n",
      "12\n",
      "13\n",
      "14\n",
      "15\n",
      "16\n",
      "17\n",
      "18\n",
      "19\n",
      "20\n"
     ]
    }
   ],
   "source": [
    "r=range(21) # starts from 0 \n",
    "#print the numbers from 0 to 20 in a line\n",
    "for num in r:\n",
    "    print(num) # \"\\n\""
   ]
  },
  {
   "cell_type": "code",
   "execution_count": 15,
   "metadata": {
    "collapsed": true
   },
   "outputs": [
    {
     "name": "stdout",
     "output_type": "stream",
     "text": [
      "0 1 2 3 4 5 6 7 8 9 10 11 12 13 14 15 16 17 18 19 20 "
     ]
    }
   ],
   "source": [
    "for num in r:\n",
    "    print(num,end=\" \") # space"
   ]
  },
  {
   "cell_type": "code",
   "execution_count": 17,
   "metadata": {},
   "outputs": [
    {
     "name": "stdout",
     "output_type": "stream",
     "text": [
      "lower bound:30\n",
      "upper bound:70\n",
      "30 32 34 36 38 40 42 44 46 48 50 52 54 56 58 60 62 64 66 68 70 "
     ]
    }
   ],
   "source": [
    "# write a python program to print the even no.s present in a range\n",
    "# num%2=0(remainder) \n",
    "lw=int(input(\"lower bound:\"))\n",
    "up=int(input(\"upper bound:\"))\n",
    "for num in range(lw,up+1): # exclusive\n",
    "    if num%2==0:\n",
    "        print(num,end=\" \")"
   ]
  },
  {
   "cell_type": "code",
   "execution_count": 19,
   "metadata": {},
   "outputs": [
    {
     "name": "stdout",
     "output_type": "stream",
     "text": [
      "30 32 34 36 38 40 42 44 46 48 50 52 54 56 58 60 62 64 66 68 70 "
     ]
    }
   ],
   "source": [
    "# dif=2\n",
    "# skip=1\n",
    "for num in range(lw,up+1,2): #\n",
    "    print(num,end=\" \")"
   ]
  },
  {
   "cell_type": "code",
   "execution_count": 20,
   "metadata": {},
   "outputs": [
    {
     "name": "stdout",
     "output_type": "stream",
     "text": [
      "30 33 36 39 42 45 48 51 54 57 60 63 66 69 "
     ]
    }
   ],
   "source": [
    "# print the multiples of 3 in a range\n",
    "''' 3,6,9,12,15,18---mutliples of 3\n",
    "factors of 12:1,2,3,4,6,12 (<12)\n",
    "    multiples of 12:12,24,36,48,60 ..(>12) '''\n",
    "\n",
    "\n",
    "for num in range(lw,up+1):\n",
    "    if num%3==0:\n",
    "        print(num,end=\" \")\n",
    "    \n"
   ]
  },
  {
   "cell_type": "code",
   "execution_count": 24,
   "metadata": {},
   "outputs": [
    {
     "name": "stdout",
     "output_type": "stream",
     "text": [
      "2 5 8 11 14 17 20 "
     ]
    }
   ],
   "source": [
    "for num in range(2,21,3): # 2 to 20\n",
    "    print(num,end=\" \")"
   ]
  },
  {
   "cell_type": "code",
   "execution_count": 27,
   "metadata": {},
   "outputs": [
    {
     "name": "stdout",
     "output_type": "stream",
     "text": [
      "0 4 8 12 16 20 24 28 32 36 40 44 48 52 56 60 64 "
     ]
    }
   ],
   "source": [
    "for num in range(0,65,4):\n",
    "    print(num,end=\" \")"
   ]
  },
  {
   "cell_type": "markdown",
   "metadata": {},
   "source": [
    "### for loop in reverse order\n",
    "- for num in range(up,lw,-1)\n",
    "    - statements"
   ]
  },
  {
   "cell_type": "code",
   "execution_count": 28,
   "metadata": {},
   "outputs": [
    {
     "name": "stdout",
     "output_type": "stream",
     "text": [
      "10 9 8 7 6 5 4 3 2 1 "
     ]
    }
   ],
   "source": [
    "# print the numbers from 1 to 10 in reverse order\n",
    "# print the numbers from 10 to 1\n",
    "for num in range(10,0,-1):\n",
    "    print(num,end=\" \")"
   ]
  },
  {
   "cell_type": "code",
   "execution_count": 30,
   "metadata": {},
   "outputs": [
    {
     "name": "stdout",
     "output_type": "stream",
     "text": [
      "Upper bound:96\n",
      "Lower bound:1\n",
      "96 90 84 78 72 66 60 54 48 42 36 30 24 18 12 6 "
     ]
    }
   ],
   "source": [
    "# print the multiples of 6 in a range in reverse order\n",
    "# 100 to 1:multiples of 6\n",
    "up,lw=int(input(\"Upper bound:\")),int(input(\"Lower bound:\"))\n",
    "for num in range(up,lw,-6):\n",
    "    print(num,end=\" \")"
   ]
  },
  {
   "cell_type": "code",
   "execution_count": 40,
   "metadata": {},
   "outputs": [
    {
     "name": "stdout",
     "output_type": "stream",
     "text": [
      "A B C D E F G H I J K "
     ]
    }
   ],
   "source": [
    "# write a python program to print the characters from A to K\n",
    "ord('A') # ASCII value of character\n",
    "for num in range(65,76):\n",
    "    print(chr(num),end=\" \")"
   ]
  },
  {
   "cell_type": "code",
   "execution_count": 34,
   "metadata": {},
   "outputs": [
    {
     "data": {
      "text/plain": [
       "'A'"
      ]
     },
     "execution_count": 34,
     "metadata": {},
     "output_type": "execute_result"
    }
   ],
   "source": [
    "chr(65)# converts integer into char\n",
    "# corresponding ascii character of perticular"
   ]
  },
  {
   "cell_type": "code",
   "execution_count": 35,
   "metadata": {},
   "outputs": [
    {
     "data": {
      "text/plain": [
       "75"
      ]
     },
     "execution_count": 35,
     "metadata": {},
     "output_type": "execute_result"
    }
   ],
   "source": [
    "ord(\"K\") # "
   ]
  },
  {
   "cell_type": "code",
   "execution_count": 36,
   "metadata": {},
   "outputs": [
    {
     "data": {
      "text/plain": [
       "107"
      ]
     },
     "execution_count": 36,
     "metadata": {},
     "output_type": "execute_result"
    }
   ],
   "source": [
    "ord(\"k\")"
   ]
  },
  {
   "cell_type": "code",
   "execution_count": 37,
   "metadata": {},
   "outputs": [
    {
     "data": {
      "text/plain": [
       "97"
      ]
     },
     "execution_count": 37,
     "metadata": {},
     "output_type": "execute_result"
    }
   ],
   "source": [
    "ord(\"a\")"
   ]
  },
  {
   "cell_type": "code",
   "execution_count": 43,
   "metadata": {},
   "outputs": [
    {
     "name": "stdout",
     "output_type": "stream",
     "text": [
      "A B C D E F G H I J K "
     ]
    }
   ],
   "source": [
    "for num in range(ord('A'),ord('L')):  # numbers\n",
    "    print(num,end=\" \")\n",
    "    print(chr(num),end=\" \") # "
   ]
  },
  {
   "cell_type": "code",
   "execution_count": 45,
   "metadata": {},
   "outputs": [
    {
     "name": "stdout",
     "output_type": "stream",
     "text": [
      "Enter the value:9\n",
      "Multiplication table of 9\n",
      "9 x 1 = 9\n",
      "9 x 2 = 18\n",
      "9 x 3 = 27\n",
      "9 x 4 = 36\n",
      "9 x 5 = 45\n",
      "9 x 6 = 54\n",
      "9 x 7 = 63\n",
      "9 x 8 = 72\n",
      "9 x 9 = 81\n",
      "9 x 10 = 90\n"
     ]
    }
   ],
   "source": [
    "# write a program to find the factors of a number\n",
    "'''' 10:1,2,5,10\n",
    "1 to 10)1,2,3,4,5,6,7,8,9,10---(0):factors\n",
    "30:1,2,3,5,6,10,15,30\n",
    "\n",
    "factors:1 to n/2,n '''\n",
    "# write a python program to print multiplication table\n",
    "''' 9x1=9\n",
    "9x2=18\n",
    "9x3=27\n",
    "...\n",
    "9x20=180 '''\n",
    "n=int(input(\"Enter the value:\"))\n",
    "print(\"Multiplication table of\",n,end=\"\\n\")\n",
    "for num in range(1,11):\n",
    "    print(n,\"x\",num,'=',n*num)"
   ]
  },
  {
   "cell_type": "code",
   "execution_count": 48,
   "metadata": {},
   "outputs": [
    {
     "name": "stdout",
     "output_type": "stream",
     "text": [
      "9 x 11 = 99\n",
      "9 x 10 = 90\n",
      "9 x 9 = 81\n",
      "9 x 8 = 72\n",
      "9 x 7 = 63\n",
      "9 x 6 = 54\n",
      "9 x 5 = 45\n",
      "9 x 4 = 36\n",
      "9 x 3 = 27\n",
      "9 x 2 = 18\n"
     ]
    }
   ],
   "source": [
    "# print the multiplication table of n in reverse order\n",
    "for num in range(11,1,-1):\n",
    "    print(n,'x',num,\"=\",n*num)"
   ]
  },
  {
   "cell_type": "code",
   "execution_count": 53,
   "metadata": {},
   "outputs": [
    {
     "name": "stdout",
     "output_type": "stream",
     "text": [
      "Enter number:5\n",
      "factorial of  5 is 120\n"
     ]
    }
   ],
   "source": [
    "# factorial vlaue of n\n",
    "#n!=n*n-1*n-2*n-3..*n-(n-1)\n",
    "#5!=5*4*3*2*1=120\n",
    "fact=1\n",
    "x=int(input(\"Enter number:\"))\n",
    "for num in range(x,0,-1):\n",
    "    fact=fact*num # assignment operator\n",
    "print(\"factorial of \",x,\"is\",fact)"
   ]
  },
  {
   "cell_type": "code",
   "execution_count": 56,
   "metadata": {},
   "outputs": [
    {
     "name": "stdout",
     "output_type": "stream",
     "text": [
      "5\n",
      "120\n"
     ]
    }
   ],
   "source": [
    "f=int(input())\n",
    "fact=1\n",
    "for num in range(1,f+1):\n",
    "    fact*=num # assignment operator\n",
    "print(fact)"
   ]
  },
  {
   "cell_type": "code",
   "execution_count": null,
   "metadata": {},
   "outputs": [],
   "source": []
  }
 ],
 "metadata": {
  "kernelspec": {
   "display_name": "Python 3",
   "language": "python",
   "name": "python3"
  },
  "language_info": {
   "codemirror_mode": {
    "name": "ipython",
    "version": 3
   },
   "file_extension": ".py",
   "mimetype": "text/x-python",
   "name": "python",
   "nbconvert_exporter": "python",
   "pygments_lexer": "ipython3",
   "version": "3.7.4"
  }
 },
 "nbformat": 4,
 "nbformat_minor": 2
}
