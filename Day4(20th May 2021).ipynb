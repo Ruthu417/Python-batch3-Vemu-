{
 "cells": [
  {
   "cell_type": "code",
   "execution_count": 12,
   "metadata": {},
   "outputs": [
    {
     "name": "stdout",
     "output_type": "stream",
     "text": [
      "Enter the number:30\n",
      "Factors:1 2 3 5 6 10 15 30 \n",
      "No.of factors= 8\n"
     ]
    }
   ],
   "source": [
    "# program to find the factors of a number\n",
    "num=int(input(\"Enter the number:\"))\n",
    "# 1 to num/2:\n",
    "# 10:factors:1,2,5,10\n",
    "print(\"Factors\",end=\":\")\n",
    "factors=0\n",
    "for dig in range(1,num+1):\n",
    "    if num%dig==0: # checking the factors\n",
    "        factors+=1\n",
    "        print(dig,end=\" \")\n",
    "print()\n",
    "print(\"No.of factors=\",factors)"
   ]
  },
  {
   "cell_type": "code",
   "execution_count": 8,
   "metadata": {
    "collapsed": true
   },
   "outputs": [
    {
     "name": "stdout",
     "output_type": "stream",
     "text": [
      "enter the factor :25\n",
      "1\n",
      "5\n",
      "25\n"
     ]
    }
   ],
   "source": [
    "num=int(input('enter the factor :'))\n",
    "for i in range(1,num+1):\n",
    "    if num%i==0:\n",
    "        print(i)\n"
   ]
  },
  {
   "cell_type": "code",
   "execution_count": 14,
   "metadata": {},
   "outputs": [
    {
     "name": "stdout",
     "output_type": "stream",
     "text": [
      "15\n",
      "Not a prime\n"
     ]
    }
   ],
   "source": [
    "# find whether a given number is prime or not\n",
    "# prime number: 2 factors: 1& num itself\n",
    "#5 :1,5\n",
    "# 11:1,11\n",
    "pr=int(input())\n",
    "fc=0 \n",
    "for num in range(1,pr+1):\n",
    "    if pr%num==0:\n",
    "        fc+=1 # \n",
    "if fc==2:\n",
    "    print(\"Prime number\")\n",
    "else:\n",
    "    print(\"Not a prime\")\n",
    "        "
   ]
  },
  {
   "cell_type": "markdown",
   "metadata": {},
   "source": [
    "### while loop\n",
    "- condition based iteration\n",
    "- user has to provide increment/decrement variable\n",
    "- syntax:\n",
    "    - while condition:\n",
    "        - statements\n",
    "        - inc/dec"
   ]
  },
  {
   "cell_type": "code",
   "execution_count": 15,
   "metadata": {},
   "outputs": [
    {
     "name": "stdout",
     "output_type": "stream",
     "text": [
      "5 6 7 8 9 10 11 12 13 14 15 16 17 18 19 20 21 "
     ]
    }
   ],
   "source": [
    "# print the numbers from 5 to 20\n",
    "num=5\n",
    "while num<=21: # \n",
    "    print(num,end=\" \")\n",
    "    num+=1"
   ]
  },
  {
   "cell_type": "code",
   "execution_count": null,
   "metadata": {},
   "outputs": [],
   "source": [
    "# print the numbers from 5 to 20\n",
    "num=5\n",
    "while num<=21: # \n",
    "    print(num,end=\" \") # it will print 5 for inifinite times,since the condition is true for all"
   ]
  },
  {
   "cell_type": "code",
   "execution_count": 1,
   "metadata": {},
   "outputs": [
    {
     "name": "stdout",
     "output_type": "stream",
     "text": [
      "20 19 18 17 16 15 14 13 12 11 10 9 8 7 6 5 4 3 2 1 "
     ]
    }
   ],
   "source": [
    "# print the numbers from 1 to 20 in reverse order\n",
    "n=20\n",
    "while n>=1:\n",
    "    print(n,end=\" \")\n",
    "    n-=1"
   ]
  },
  {
   "cell_type": "code",
   "execution_count": 4,
   "metadata": {},
   "outputs": [
    {
     "name": "stdout",
     "output_type": "stream",
     "text": [
      "Enter the number:12345\n",
      "sum of the digits: 15\n"
     ]
    }
   ],
   "source": [
    "# sum of digits in a number using while\n",
    "#12345:1+2+3+4+5=\n",
    "x=int(input(\"Enter the number:\"))\n",
    "s=0\n",
    "while x!=0:\n",
    "    rem=x%10 # remainer value 12345%10=5\n",
    "    s+=rem\n",
    "    x//=10 # x=x/10 10)x( \n",
    "    \n",
    "print(\"sum of the digits:\",s)"
   ]
  },
  {
   "cell_type": "code",
   "execution_count": 7,
   "metadata": {},
   "outputs": [
    {
     "name": "stdout",
     "output_type": "stream",
     "text": [
      "Enter the number:12345\n",
      "sum = 15\n"
     ]
    }
   ],
   "source": [
    "#12345 as a \"12345\"\n",
    "st=input(\"Enter the number:\")\n",
    "s=0\n",
    "for ch in st:\n",
    "    s+=int(ch)\n",
    "print(\"sum =\",s)"
   ]
  },
  {
   "cell_type": "code",
   "execution_count": 8,
   "metadata": {},
   "outputs": [],
   "source": [
    "# print the multiplication table using while loop\n",
    "\n",
    "# sum the odd digits in a given number\n",
    "# 12345:1+3+5=9"
   ]
  },
  {
   "cell_type": "code",
   "execution_count": 9,
   "metadata": {
    "collapsed": true
   },
   "outputs": [
    {
     "name": "stdout",
     "output_type": "stream",
     "text": [
      "9\n",
      "9 x 1 = 9\n",
      "9 x 2 = 18\n",
      "9 x 3 = 27\n",
      "9 x 4 = 36\n",
      "9 x 5 = 45\n",
      "9 x 6 = 54\n",
      "9 x 7 = 63\n",
      "9 x 8 = 72\n",
      "9 x 9 = 81\n",
      "9 x 10 = 90\n"
     ]
    }
   ],
   "source": [
    "m=int(input())\n",
    "num=1\n",
    "while num<=10:\n",
    "    print(m,'x',num,'=',m*num)\n",
    "    num+=1"
   ]
  },
  {
   "cell_type": "code",
   "execution_count": 1,
   "metadata": {},
   "outputs": [
    {
     "name": "stdout",
     "output_type": "stream",
     "text": [
      "897604\n",
      "sum of the odd digits: 16\n"
     ]
    }
   ],
   "source": [
    "#i/p:897604:\n",
    "# o/p9+7=16 \n",
    "# odd:9%2=1\n",
    "nums=int(input())\n",
    "odds=0\n",
    "while nums!=0:\n",
    "    rem=nums%10\n",
    "    if rem%2==1:\n",
    "        odds+=rem\n",
    "    nums//=10\n",
    "    \n",
    "print(\"sum of the odd digits:\",odds)\n"
   ]
  },
  {
   "cell_type": "code",
   "execution_count": 4,
   "metadata": {},
   "outputs": [
    {
     "name": "stdout",
     "output_type": "stream",
     "text": [
      "76543456\n",
      "sum of odd digits: 20\n"
     ]
    }
   ],
   "source": [
    "st=input()\n",
    "s=0\n",
    "for ch in st:\n",
    "    if int(ch)%2==1:\n",
    "        s+=int(ch)\n",
    "print(\"sum of odd digits:\",s)\n",
    "\n"
   ]
  },
  {
   "cell_type": "code",
   "execution_count": 3,
   "metadata": {},
   "outputs": [
    {
     "ename": "SyntaxError",
     "evalue": "invalid syntax (<ipython-input-3-1e58e9d35353>, line 3)",
     "output_type": "error",
     "traceback": [
      "\u001b[1;36m  File \u001b[1;32m\"<ipython-input-3-1e58e9d35353>\"\u001b[1;36m, line \u001b[1;32m3\u001b[0m\n\u001b[1;33m    10:1,2,5=1+2+5=8!=10\u001b[0m\n\u001b[1;37m        ^\u001b[0m\n\u001b[1;31mSyntaxError\u001b[0m\u001b[1;31m:\u001b[0m invalid syntax\n"
     ]
    }
   ],
   "source": [
    "# check whether given number is perfect or not\n",
    "#6:1+2+3=6\n",
    "10:1,2,5=1+2+5=8!=10\n",
    "    \n",
    "    \n",
    "    "
   ]
  },
  {
   "cell_type": "code",
   "execution_count": null,
   "metadata": {},
   "outputs": [],
   "source": []
  }
 ],
 "metadata": {
  "kernelspec": {
   "display_name": "Python 3",
   "language": "python",
   "name": "python3"
  },
  "language_info": {
   "codemirror_mode": {
    "name": "ipython",
    "version": 3
   },
   "file_extension": ".py",
   "mimetype": "text/x-python",
   "name": "python",
   "nbconvert_exporter": "python",
   "pygments_lexer": "ipython3",
   "version": "3.7.4"
  }
 },
 "nbformat": 4,
 "nbformat_minor": 2
}
