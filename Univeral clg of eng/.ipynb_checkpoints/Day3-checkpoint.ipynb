{
 "cells": [
  {
   "cell_type": "code",
   "execution_count": 1,
   "metadata": {},
   "outputs": [],
   "source": [
    "#write a program to check whether a no. is perfect or not\n",
    "# write a program to find the prime factors of a no.\n",
    "# i/p : firstname lastname\n",
    "# o/p: l.firstname"
   ]
  },
  {
   "cell_type": "code",
   "execution_count": 3,
   "metadata": {},
   "outputs": [
    {
     "data": {
      "text/plain": [
       "True"
      ]
     },
     "execution_count": 3,
     "metadata": {},
     "output_type": "execute_result"
    }
   ],
   "source": [
    "def is_perfect(n):\n",
    "    s=0\n",
    "    for num in range(1,n):\n",
    "        if n%num==0:\n",
    "            s+=num\n",
    "    if s==n:\n",
    "        return True\n",
    "    else:return False\n",
    "    \n",
    "is_perfect(6)"
   ]
  },
  {
   "cell_type": "code",
   "execution_count": 4,
   "metadata": {},
   "outputs": [
    {
     "data": {
      "text/plain": [
       "False"
      ]
     },
     "execution_count": 4,
     "metadata": {},
     "output_type": "execute_result"
    }
   ],
   "source": [
    "is_perfect(12)"
   ]
  },
  {
   "cell_type": "code",
   "execution_count": 5,
   "metadata": {},
   "outputs": [
    {
     "name": "stdout",
     "output_type": "stream",
     "text": [
      "1\n",
      "1000\n",
      "6 28 496 "
     ]
    }
   ],
   "source": [
    "lw=int(input())\n",
    "up=int(input())\n",
    "def perfect_range(lw,up):\n",
    "    for num in range(lw,up+1):\n",
    "        if is_perfect(num):\n",
    "            print(num,end=\" \")\n",
    "perfect_range(lw,up)"
   ]
  },
  {
   "cell_type": "code",
   "execution_count": null,
   "metadata": {},
   "outputs": [],
   "source": [
    "#15-->1,3,-->3 5"
   ]
  },
  {
   "cell_type": "code",
   "execution_count": 9,
   "metadata": {},
   "outputs": [
    {
     "name": "stdout",
     "output_type": "stream",
     "text": [
      "perfect\n"
     ]
    }
   ],
   "source": [
    "def is_perfect2(n):\n",
    "    s=0\n",
    "    for num in range(1,n):\n",
    "        if n%num==0:\n",
    "            s+=num\n",
    "    if s==n:\n",
    "        print('perfect')\n",
    "    else:\n",
    "        print('not perfect')\n",
    "    \n",
    "is_perfect2(6)"
   ]
  },
  {
   "cell_type": "code",
   "execution_count": 10,
   "metadata": {},
   "outputs": [
    {
     "name": "stdout",
     "output_type": "stream",
     "text": [
      "not perfect\n"
     ]
    }
   ],
   "source": [
    "is_perfect2(10)"
   ]
  },
  {
   "cell_type": "code",
   "execution_count": 12,
   "metadata": {
    "collapsed": true
   },
   "outputs": [
    {
     "name": "stdout",
     "output_type": "stream",
     "text": [
      "1\n",
      "100\n",
      "not perfect\n",
      "not perfect\n",
      "not perfect\n",
      "not perfect\n",
      "not perfect\n",
      "perfect\n",
      "not perfect\n",
      "not perfect\n",
      "not perfect\n",
      "not perfect\n",
      "not perfect\n",
      "not perfect\n",
      "not perfect\n",
      "not perfect\n",
      "not perfect\n",
      "not perfect\n",
      "not perfect\n",
      "not perfect\n",
      "not perfect\n",
      "not perfect\n",
      "not perfect\n",
      "not perfect\n",
      "not perfect\n",
      "not perfect\n",
      "not perfect\n",
      "not perfect\n",
      "not perfect\n",
      "perfect\n",
      "not perfect\n",
      "not perfect\n",
      "not perfect\n",
      "not perfect\n",
      "not perfect\n",
      "not perfect\n",
      "not perfect\n",
      "not perfect\n",
      "not perfect\n",
      "not perfect\n",
      "not perfect\n",
      "not perfect\n",
      "not perfect\n",
      "not perfect\n",
      "not perfect\n",
      "not perfect\n",
      "not perfect\n",
      "not perfect\n",
      "not perfect\n",
      "not perfect\n",
      "not perfect\n",
      "not perfect\n",
      "not perfect\n",
      "not perfect\n",
      "not perfect\n",
      "not perfect\n",
      "not perfect\n",
      "not perfect\n",
      "not perfect\n",
      "not perfect\n",
      "not perfect\n",
      "not perfect\n",
      "not perfect\n",
      "not perfect\n",
      "not perfect\n",
      "not perfect\n",
      "not perfect\n",
      "not perfect\n",
      "not perfect\n",
      "not perfect\n",
      "not perfect\n",
      "not perfect\n",
      "not perfect\n",
      "not perfect\n",
      "not perfect\n",
      "not perfect\n",
      "not perfect\n",
      "not perfect\n",
      "not perfect\n",
      "not perfect\n",
      "not perfect\n",
      "not perfect\n",
      "not perfect\n",
      "not perfect\n",
      "not perfect\n",
      "not perfect\n",
      "not perfect\n",
      "not perfect\n",
      "not perfect\n",
      "not perfect\n",
      "not perfect\n",
      "not perfect\n",
      "not perfect\n",
      "not perfect\n",
      "not perfect\n",
      "not perfect\n",
      "not perfect\n",
      "not perfect\n",
      "not perfect\n",
      "not perfect\n",
      "not perfect\n",
      "not perfect\n"
     ]
    }
   ],
   "source": [
    "lw=int(input())\n",
    "up=int(input())\n",
    "def perfect_range2(lw,up):\n",
    "    for num in range(lw,up+1):\n",
    "        if is_perfect2(num):\n",
    "            print(num,end=\" \")\n",
    "perfect_range2(lw,up)"
   ]
  },
  {
   "cell_type": "code",
   "execution_count": 18,
   "metadata": {},
   "outputs": [
    {
     "name": "stdout",
     "output_type": "stream",
     "text": [
      "8023\n",
      "printing the prime factors...\n",
      "71 113 "
     ]
    }
   ],
   "source": [
    "def prime(n):\n",
    "    count=0\n",
    "    for num in range(1,n+1):\n",
    "        if n%num==0:\n",
    "            count+=1\n",
    "    if count==2:\n",
    "        return True\n",
    "    else:return False\n",
    "        \n",
    "num=int(input())\n",
    "print('printing the prime factors...')\n",
    "for i in range(1,num+1):\n",
    "    if num%i==0:\n",
    "        if prime(i):\n",
    "            print(i,end=\" \")"
   ]
  },
  {
   "cell_type": "code",
   "execution_count": 24,
   "metadata": {
    "collapsed": true
   },
   "outputs": [
    {
     "name": "stdout",
     "output_type": "stream",
     "text": [
      "anjani gottam\n",
      "g . anjani\n"
     ]
    }
   ],
   "source": [
    "# firstname lastname\n",
    "# l.firstname\n",
    "name=input().split()\n",
    "print(name[1][0],'.',name[0])"
   ]
  },
  {
   "cell_type": "markdown",
   "metadata": {},
   "source": [
    "### Data Structures\n",
    "- way of organizing the data in a perticular format\n",
    "- 4types:\n",
    "    -  set{}\n",
    "    - tuple()\n",
    "    - list[]\n",
    "    - dictionary{}"
   ]
  },
  {
   "cell_type": "markdown",
   "metadata": {},
   "source": [
    "### set\n",
    "- collection of unordered data\n",
    "- {}\n",
    "- eleminates the duplicate data"
   ]
  },
  {
   "cell_type": "code",
   "execution_count": 25,
   "metadata": {},
   "outputs": [
    {
     "data": {
      "text/plain": [
       "{23, 6778.654, 90, 9098.34, 'hello', 'word'}"
      ]
     },
     "execution_count": 25,
     "metadata": {},
     "output_type": "execute_result"
    }
   ],
   "source": [
    "a={23,90,'hello','word',90,6778.654,9098.34}\n",
    "a"
   ]
  },
  {
   "cell_type": "code",
   "execution_count": 26,
   "metadata": {},
   "outputs": [
    {
     "data": {
      "text/plain": [
       "{45, 90, 9088.67, 'new', 'set2', 'word'}"
      ]
     },
     "execution_count": 26,
     "metadata": {},
     "output_type": "execute_result"
    }
   ],
   "source": [
    "b={45,90,'word','new','set2',9088.67}\n",
    "b"
   ]
  },
  {
   "cell_type": "code",
   "execution_count": 27,
   "metadata": {},
   "outputs": [
    {
     "data": {
      "text/plain": [
       "{23, 45, 6778.654, 90, 9088.67, 9098.34, 'hello', 'new', 'set2', 'word'}"
      ]
     },
     "execution_count": 27,
     "metadata": {},
     "output_type": "execute_result"
    }
   ],
   "source": [
    "a.union(b)"
   ]
  },
  {
   "cell_type": "code",
   "execution_count": 28,
   "metadata": {},
   "outputs": [
    {
     "data": {
      "text/plain": [
       "{90, 'word'}"
      ]
     },
     "execution_count": 28,
     "metadata": {},
     "output_type": "execute_result"
    }
   ],
   "source": [
    "a.intersection(b)"
   ]
  },
  {
   "cell_type": "code",
   "execution_count": 29,
   "metadata": {},
   "outputs": [
    {
     "data": {
      "text/plain": [
       "{23, 6778.654, 9098.34, 'hello'}"
      ]
     },
     "execution_count": 29,
     "metadata": {},
     "output_type": "execute_result"
    }
   ],
   "source": [
    "a.difference(b)"
   ]
  },
  {
   "cell_type": "code",
   "execution_count": 30,
   "metadata": {},
   "outputs": [
    {
     "data": {
      "text/plain": [
       "{23, 6778.654, 9098.34, 'hello'}"
      ]
     },
     "execution_count": 30,
     "metadata": {},
     "output_type": "execute_result"
    }
   ],
   "source": [
    "a-b"
   ]
  },
  {
   "cell_type": "code",
   "execution_count": 31,
   "metadata": {},
   "outputs": [
    {
     "data": {
      "text/plain": [
       "{45, 90, 9088.67, 'new', 'set2', 'word'}"
      ]
     },
     "execution_count": 31,
     "metadata": {},
     "output_type": "execute_result"
    }
   ],
   "source": [
    "b"
   ]
  },
  {
   "cell_type": "code",
   "execution_count": 32,
   "metadata": {},
   "outputs": [
    {
     "data": {
      "text/plain": [
       "{23, 6778.654, 90, 9098.34, 'hello', 'word'}"
      ]
     },
     "execution_count": 32,
     "metadata": {},
     "output_type": "execute_result"
    }
   ],
   "source": [
    "a"
   ]
  },
  {
   "cell_type": "code",
   "execution_count": 33,
   "metadata": {},
   "outputs": [
    {
     "data": {
      "text/plain": [
       "False"
      ]
     },
     "execution_count": 33,
     "metadata": {},
     "output_type": "execute_result"
    }
   ],
   "source": [
    "b.issubset(a)"
   ]
  },
  {
   "cell_type": "code",
   "execution_count": 34,
   "metadata": {},
   "outputs": [
    {
     "data": {
      "text/plain": [
       "{23, 'word'}"
      ]
     },
     "execution_count": 34,
     "metadata": {},
     "output_type": "execute_result"
    }
   ],
   "source": [
    "c={'word',23}\n",
    "c"
   ]
  },
  {
   "cell_type": "code",
   "execution_count": 35,
   "metadata": {},
   "outputs": [
    {
     "data": {
      "text/plain": [
       "True"
      ]
     },
     "execution_count": 35,
     "metadata": {},
     "output_type": "execute_result"
    }
   ],
   "source": [
    "c.issubset(a)"
   ]
  },
  {
   "cell_type": "code",
   "execution_count": 36,
   "metadata": {},
   "outputs": [
    {
     "data": {
      "text/plain": [
       "True"
      ]
     },
     "execution_count": 36,
     "metadata": {},
     "output_type": "execute_result"
    }
   ],
   "source": [
    "a.issuperset(c)"
   ]
  },
  {
   "cell_type": "code",
   "execution_count": 37,
   "metadata": {
    "collapsed": true
   },
   "outputs": [
    {
     "data": {
      "text/plain": [
       "['__and__',\n",
       " '__class__',\n",
       " '__contains__',\n",
       " '__delattr__',\n",
       " '__dir__',\n",
       " '__doc__',\n",
       " '__eq__',\n",
       " '__format__',\n",
       " '__ge__',\n",
       " '__getattribute__',\n",
       " '__gt__',\n",
       " '__hash__',\n",
       " '__iand__',\n",
       " '__init__',\n",
       " '__init_subclass__',\n",
       " '__ior__',\n",
       " '__isub__',\n",
       " '__iter__',\n",
       " '__ixor__',\n",
       " '__le__',\n",
       " '__len__',\n",
       " '__lt__',\n",
       " '__ne__',\n",
       " '__new__',\n",
       " '__or__',\n",
       " '__rand__',\n",
       " '__reduce__',\n",
       " '__reduce_ex__',\n",
       " '__repr__',\n",
       " '__ror__',\n",
       " '__rsub__',\n",
       " '__rxor__',\n",
       " '__setattr__',\n",
       " '__sizeof__',\n",
       " '__str__',\n",
       " '__sub__',\n",
       " '__subclasshook__',\n",
       " '__xor__',\n",
       " 'add',\n",
       " 'clear',\n",
       " 'copy',\n",
       " 'difference',\n",
       " 'difference_update',\n",
       " 'discard',\n",
       " 'intersection',\n",
       " 'intersection_update',\n",
       " 'isdisjoint',\n",
       " 'issubset',\n",
       " 'issuperset',\n",
       " 'pop',\n",
       " 'remove',\n",
       " 'symmetric_difference',\n",
       " 'symmetric_difference_update',\n",
       " 'union',\n",
       " 'update']"
      ]
     },
     "execution_count": 37,
     "metadata": {},
     "output_type": "execute_result"
    }
   ],
   "source": [
    "dir(a)"
   ]
  },
  {
   "cell_type": "code",
   "execution_count": 38,
   "metadata": {},
   "outputs": [
    {
     "data": {
      "text/plain": [
       "{23, 'word'}"
      ]
     },
     "execution_count": 38,
     "metadata": {},
     "output_type": "execute_result"
    }
   ],
   "source": [
    "c"
   ]
  },
  {
   "cell_type": "code",
   "execution_count": 39,
   "metadata": {},
   "outputs": [
    {
     "data": {
      "text/plain": [
       "{45, 90, 9088.67, 'new', 'set2', 'word'}"
      ]
     },
     "execution_count": 39,
     "metadata": {},
     "output_type": "execute_result"
    }
   ],
   "source": [
    "b"
   ]
  },
  {
   "cell_type": "code",
   "execution_count": 40,
   "metadata": {},
   "outputs": [
    {
     "data": {
      "text/plain": [
       "{23, 6778.654, 90, 9098.34, 'hello', 'word'}"
      ]
     },
     "execution_count": 40,
     "metadata": {},
     "output_type": "execute_result"
    }
   ],
   "source": [
    "a"
   ]
  },
  {
   "cell_type": "code",
   "execution_count": 41,
   "metadata": {},
   "outputs": [
    {
     "data": {
      "text/plain": [
       "{123, 'new word'}"
      ]
     },
     "execution_count": 41,
     "metadata": {},
     "output_type": "execute_result"
    }
   ],
   "source": [
    "d={'new word',123}\n",
    "d"
   ]
  },
  {
   "cell_type": "code",
   "execution_count": 42,
   "metadata": {},
   "outputs": [
    {
     "data": {
      "text/plain": [
       "True"
      ]
     },
     "execution_count": 42,
     "metadata": {},
     "output_type": "execute_result"
    }
   ],
   "source": [
    "d.isdisjoint(a)"
   ]
  },
  {
   "cell_type": "markdown",
   "metadata": {},
   "source": [
    "### tuple\n",
    "-  one of the data structes in python\n",
    "- used to store the data/value\n",
    "- represented with ()\n",
    "- immutable in nature\n",
    "- methods\n",
    "    - count\n",
    "    - index"
   ]
  },
  {
   "cell_type": "code",
   "execution_count": 43,
   "metadata": {},
   "outputs": [
    {
     "data": {
      "text/plain": [
       "('string', 8778789, 6789809.565, 'string2', 123)"
      ]
     },
     "execution_count": 43,
     "metadata": {},
     "output_type": "execute_result"
    }
   ],
   "source": [
    "t=('string',8778789,6789809.565,'string2',123)\n",
    "t"
   ]
  },
  {
   "cell_type": "code",
   "execution_count": 44,
   "metadata": {},
   "outputs": [
    {
     "data": {
      "text/plain": [
       "1"
      ]
     },
     "execution_count": 44,
     "metadata": {},
     "output_type": "execute_result"
    }
   ],
   "source": [
    "t.index(8778789)"
   ]
  },
  {
   "cell_type": "code",
   "execution_count": 45,
   "metadata": {},
   "outputs": [
    {
     "data": {
      "text/plain": [
       "1"
      ]
     },
     "execution_count": 45,
     "metadata": {},
     "output_type": "execute_result"
    }
   ],
   "source": [
    "t.count('string')"
   ]
  },
  {
   "cell_type": "code",
   "execution_count": 46,
   "metadata": {},
   "outputs": [
    {
     "data": {
      "text/plain": [
       "'string2'"
      ]
     },
     "execution_count": 46,
     "metadata": {},
     "output_type": "execute_result"
    }
   ],
   "source": [
    "t[3]"
   ]
  },
  {
   "cell_type": "code",
   "execution_count": 47,
   "metadata": {},
   "outputs": [
    {
     "data": {
      "text/plain": [
       "('string', 8778789, 6789809.565, 'string2', 123)"
      ]
     },
     "execution_count": 47,
     "metadata": {},
     "output_type": "execute_result"
    }
   ],
   "source": [
    "t[0:]"
   ]
  },
  {
   "cell_type": "code",
   "execution_count": 48,
   "metadata": {
    "collapsed": true
   },
   "outputs": [
    {
     "ename": "TypeError",
     "evalue": "'tuple' object does not support item assignment",
     "output_type": "error",
     "traceback": [
      "\u001b[1;31m---------------------------------------------------------------------------\u001b[0m",
      "\u001b[1;31mTypeError\u001b[0m                                 Traceback (most recent call last)",
      "\u001b[1;32m<ipython-input-48-5203e5e79064>\u001b[0m in \u001b[0;36m<module>\u001b[1;34m\u001b[0m\n\u001b[1;32m----> 1\u001b[1;33m \u001b[0mt\u001b[0m\u001b[1;33m[\u001b[0m\u001b[1;36m0\u001b[0m\u001b[1;33m]\u001b[0m\u001b[1;33m=\u001b[0m\u001b[1;34m'new word'\u001b[0m\u001b[1;33m\u001b[0m\u001b[1;33m\u001b[0m\u001b[0m\n\u001b[0m",
      "\u001b[1;31mTypeError\u001b[0m: 'tuple' object does not support item assignment"
     ]
    }
   ],
   "source": [
    "t[0]='new word'"
   ]
  },
  {
   "cell_type": "code",
   "execution_count": null,
   "metadata": {},
   "outputs": [],
   "source": [
    "# Universal college of Engineering and technology\n",
    "# o/p:U i e a o e e o E i e e i a e o o\n",
    "# U i e a o E\n",
    "s=input()\n",
    "for each in s:\n",
    "    if(each=='a' or each=='e' or each=='i' or each=='o' or each=='u' or each=='A' or each=='E' or each=='I' or each=='O' or each=='U'):\n",
    "        print(each,end=\" \")"
   ]
  },
  {
   "cell_type": "code",
   "execution_count": null,
   "metadata": {},
   "outputs": [],
   "source": []
  }
 ],
 "metadata": {
  "kernelspec": {
   "display_name": "Python 3",
   "language": "python",
   "name": "python3"
  },
  "language_info": {
   "codemirror_mode": {
    "name": "ipython",
    "version": 3
   },
   "file_extension": ".py",
   "mimetype": "text/x-python",
   "name": "python",
   "nbconvert_exporter": "python",
   "pygments_lexer": "ipython3",
   "version": "3.7.4"
  }
 },
 "nbformat": 4,
 "nbformat_minor": 2
}
