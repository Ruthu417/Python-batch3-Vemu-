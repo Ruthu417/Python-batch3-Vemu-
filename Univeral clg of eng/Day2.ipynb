{
 "cells": [
  {
   "cell_type": "markdown",
   "metadata": {},
   "source": [
    "### Today topics\n",
    "- string methods\n",
    "    - string.join('delimeter')\n",
    "    - string.startswith(ele)\n",
    "    - string.endswith(ele)\n",
    "    - string.zfill(num)\n",
    "    - string.casefold()\n",
    "- conditional statements\n",
    "    - if\n",
    "    - if else\n",
    "    - else if(elif)\n",
    "    - nested if\n",
    "- range(start,stop,step count)\n",
    "- iterating statements\n",
    "- functions"
   ]
  },
  {
   "cell_type": "code",
   "execution_count": 1,
   "metadata": {},
   "outputs": [
    {
     "data": {
      "text/plain": [
       "['Universal', 'College', 'of', 'Engineering']"
      ]
     },
     "execution_count": 1,
     "metadata": {},
     "output_type": "execute_result"
    }
   ],
   "source": [
    "clg='Universal College of Engineering'.split()\n",
    "clg"
   ]
  },
  {
   "cell_type": "code",
   "execution_count": 2,
   "metadata": {},
   "outputs": [
    {
     "data": {
      "text/plain": [
       "'UniversalCollegeofEngineering'"
      ]
     },
     "execution_count": 2,
     "metadata": {},
     "output_type": "execute_result"
    }
   ],
   "source": [
    "''.join(clg) # "
   ]
  },
  {
   "cell_type": "code",
   "execution_count": 3,
   "metadata": {},
   "outputs": [
    {
     "data": {
      "text/plain": [
       "'Universal@College@of@Engineering'"
      ]
     },
     "execution_count": 3,
     "metadata": {},
     "output_type": "execute_result"
    }
   ],
   "source": [
    "'@'.join(clg)"
   ]
  },
  {
   "cell_type": "code",
   "execution_count": 4,
   "metadata": {},
   "outputs": [
    {
     "data": {
      "text/plain": [
       "'Universal College of Engineering'"
      ]
     },
     "execution_count": 4,
     "metadata": {},
     "output_type": "execute_result"
    }
   ],
   "source": [
    "clg2='Universal College of Engineering'\n",
    "clg2\n"
   ]
  },
  {
   "cell_type": "code",
   "execution_count": 5,
   "metadata": {
    "scrolled": true
   },
   "outputs": [
    {
     "data": {
      "text/plain": [
       "False"
      ]
     },
     "execution_count": 5,
     "metadata": {},
     "output_type": "execute_result"
    }
   ],
   "source": [
    "clg2.startswith('j')"
   ]
  },
  {
   "cell_type": "code",
   "execution_count": 6,
   "metadata": {},
   "outputs": [
    {
     "data": {
      "text/plain": [
       "True"
      ]
     },
     "execution_count": 6,
     "metadata": {},
     "output_type": "execute_result"
    }
   ],
   "source": [
    "clg2.endswith('g')"
   ]
  },
  {
   "cell_type": "code",
   "execution_count": 7,
   "metadata": {},
   "outputs": [
    {
     "data": {
      "text/plain": [
       "32"
      ]
     },
     "execution_count": 7,
     "metadata": {},
     "output_type": "execute_result"
    }
   ],
   "source": [
    "len(clg2)"
   ]
  },
  {
   "cell_type": "code",
   "execution_count": 8,
   "metadata": {},
   "outputs": [
    {
     "data": {
      "text/plain": [
       "'000000000000000000Universal College of Engineering'"
      ]
     },
     "execution_count": 8,
     "metadata": {},
     "output_type": "execute_result"
    }
   ],
   "source": [
    "clg2.zfill(50) # fills the string with 0s"
   ]
  },
  {
   "cell_type": "code",
   "execution_count": 9,
   "metadata": {},
   "outputs": [
    {
     "data": {
      "text/plain": [
       "'universal college of engineering'"
      ]
     },
     "execution_count": 9,
     "metadata": {},
     "output_type": "execute_result"
    }
   ],
   "source": [
    "clg2.casefold()"
   ]
  },
  {
   "cell_type": "markdown",
   "metadata": {},
   "source": [
    "**condtional statements**<br>\n",
    "- if\n",
    "    - Synatx:\n",
    "        - if (condition):\n",
    "             - statements"
   ]
  },
  {
   "cell_type": "code",
   "execution_count": null,
   "metadata": {},
   "outputs": [],
   "source": [
    "# whether a string is palindrome or not\n",
    "#121=121\n",
    "#madam=madam\n",
    "#dir(str)\n",
    "st=input()\n",
    "if st==st[::-1]:\n",
    "    print('palindrome')\n",
    "else:\n",
    "    print('Not a palindrome')"
   ]
  },
  {
   "cell_type": "code",
   "execution_count": null,
   "metadata": {},
   "outputs": [],
   "source": [
    "# check whether a no. is even or odd\n",
    "a=int(input())\n",
    "if a%2==0:\n",
    "    print('even')\n",
    "else:\n",
    "    print('odd')"
   ]
  },
  {
   "cell_type": "markdown",
   "metadata": {},
   "source": [
    "### print the relavent answer\n",
    "- i/p: 'a' or 'A'--> alphabet\n",
    "- i/p: 8--> digit\n",
    "- i/p: @,#,/--> o/p--> special character"
   ]
  },
  {
   "cell_type": "code",
   "execution_count": null,
   "metadata": {},
   "outputs": [],
   "source": [
    "ch=input()\n",
    "if ch.isalpha(): # lower/upper\n",
    "    if ch.islower():\n",
    "        print('lowercase alphabet')\n",
    "    elif ch.isupper():\n",
    "        print('uppercase alphabet')\n",
    "elif ch.isdigit():\n",
    "    print('Digit')\n",
    "else:\n",
    "    print('Special character')"
   ]
  },
  {
   "cell_type": "code",
   "execution_count": 2,
   "metadata": {},
   "outputs": [
    {
     "name": "stdout",
     "output_type": "stream",
     "text": [
      "1800\n",
      "non leap year\n"
     ]
    }
   ],
   "source": [
    "# check whether an year is leap or not\n",
    "year=int(input())\n",
    "if (year%400==0) or (year%4==0 and year%100!=0):\n",
    "    print('leap year')\n",
    "else:\n",
    "    print('non leap year')"
   ]
  },
  {
   "cell_type": "markdown",
   "metadata": {},
   "source": [
    "### Iterating statements\n",
    "- for\n",
    "    - range/iterable\n",
    "    - by default it increments 1 value\n",
    "    - syntax:\n",
    "        - for iterator in range():\n",
    "        - for iterator in iterable:\n",
    "            - statements\n",
    "- while\n",
    "    - condtion based iteratiion\n",
    "    - user increment\n",
    "    - syntax:\n",
    "        - while conditon:\n",
    "            - statements"
   ]
  },
  {
   "cell_type": "code",
   "execution_count": null,
   "metadata": {},
   "outputs": [],
   "source": [
    "v=range(1,21)\n",
    "for num in v:\n",
    "    print(num)"
   ]
  },
  {
   "cell_type": "markdown",
   "metadata": {},
   "source": [
    "#### range(limit)\n",
    "#### range(start,stop,step count) "
   ]
  },
  {
   "cell_type": "code",
   "execution_count": null,
   "metadata": {},
   "outputs": [],
   "source": [
    "r=range(1,21)\n",
    "for num in r:\n",
    "    print(num,end=' ')"
   ]
  },
  {
   "cell_type": "code",
   "execution_count": null,
   "metadata": {},
   "outputs": [],
   "source": [
    "# write a program to print the even no.s within range\n",
    "lw=int(input())\n",
    "up=int(input())\n",
    "for num in range(lw,up+1):\n",
    "    if num%2==0:\n",
    "        print(num,end=\" \")"
   ]
  },
  {
   "cell_type": "code",
   "execution_count": null,
   "metadata": {},
   "outputs": [],
   "source": [
    "s=range(int(input()),int(input()))\n",
    "for num in s:\n",
    "    if num%2==0:\n",
    "        print(num,end=' ')"
   ]
  },
  {
   "cell_type": "code",
   "execution_count": null,
   "metadata": {},
   "outputs": [],
   "source": [
    "evens=range(lw,up,4)\n",
    "for num in evens:\n",
    "    print(num,end=\" \")"
   ]
  },
  {
   "cell_type": "code",
   "execution_count": null,
   "metadata": {},
   "outputs": [],
   "source": [
    "# characters within a range\n",
    "var=range(65,80)\n",
    "for num in var:\n",
    "    print(chr(num),end=\" \")"
   ]
  },
  {
   "cell_type": "code",
   "execution_count": null,
   "metadata": {},
   "outputs": [],
   "source": [
    "# write a program to print the vowels in the string taken from the user\n",
    "# i/p:'Universal college of engineering and technology'\n",
    "# o/p: U i e a o e e o e i e e i a e o o\n",
    "# write a program to print no.s from 1 to 20\n",
    "for num in range(1,11):\n",
    "    print(num)"
   ]
  },
  {
   "cell_type": "code",
   "execution_count": null,
   "metadata": {},
   "outputs": [],
   "source": [
    "st=input()\n",
    "#\n",
    "for each in st:\n",
    "    if each=='a' or each=='e' or each=='i' or each=='o' or each=='u' or each=='A' or each=='E' or each=='O' or each=='U' or each=='I':\n",
    "        print(each,end=' ')"
   ]
  },
  {
   "cell_type": "code",
   "execution_count": null,
   "metadata": {},
   "outputs": [],
   "source": [
    "# o/p: lowercase vowels\n",
    "# o/p: uppercase vowels\n",
    "st=input()\n",
    "for i in st:\n",
    "    if i.islower():\n",
    "        if i=='a' or i=='e' or i=='i' or i=='o' or i=='u':\n",
    "            print(i,end=' ')\n",
    "print()\n",
    "for ch in st:\n",
    "    if ch.isupper():\n",
    "        if ch=='A' or ch=='E' or ch=='I' or ch=='O' or ch=='U':\n",
    "            print(ch,end=' ')"
   ]
  },
  {
   "cell_type": "code",
   "execution_count": null,
   "metadata": {},
   "outputs": [],
   "source": [
    "# take alphanumeric string from the user and print only integer values\n",
    "# the count of digits --> digit count\n",
    "#sum of the digits\n",
    "alnum=input()\n",
    "count=0\n",
    "s=0\n",
    "for ch in alnum:\n",
    "    if ch.isdigit():\n",
    "        print(ch,end=\" \")\n",
    "        count+=1\n",
    "        s+=int(ch)\n",
    "print()\n",
    "print('Count of numbers',count)\n",
    "print('sum of digits=',s)"
   ]
  },
  {
   "cell_type": "code",
   "execution_count": null,
   "metadata": {},
   "outputs": [],
   "source": [
    "s=0\n"
   ]
  },
  {
   "cell_type": "code",
   "execution_count": null,
   "metadata": {},
   "outputs": [],
   "source": [
    "clg='name'\n",
    "clg.upper()"
   ]
  },
  {
   "cell_type": "code",
   "execution_count": null,
   "metadata": {},
   "outputs": [],
   "source": [
    "clg"
   ]
  },
  {
   "cell_type": "markdown",
   "metadata": {},
   "source": [
    "### while\n",
    "- condition based iteration"
   ]
  },
  {
   "cell_type": "code",
   "execution_count": null,
   "metadata": {},
   "outputs": [],
   "source": [
    "# 1to 20\n",
    "num=0\n",
    "while num<20:\n",
    "    print(num)\n",
    "    num+=1"
   ]
  },
  {
   "cell_type": "code",
   "execution_count": null,
   "metadata": {},
   "outputs": [],
   "source": [
    "#even no.s \n",
    "even=0\n",
    "while even<=20:\n",
    "    print(even,end=' ')\n",
    "    even+=2"
   ]
  },
  {
   "cell_type": "code",
   "execution_count": null,
   "metadata": {},
   "outputs": [],
   "source": [
    "num=int(input())\n",
    "i=0\n",
    "while i<=num:\n",
    "    print(i)\n",
    "    i+=2"
   ]
  },
  {
   "cell_type": "code",
   "execution_count": null,
   "metadata": {},
   "outputs": [],
   "source": []
  },
  {
   "cell_type": "code",
   "execution_count": null,
   "metadata": {},
   "outputs": [],
   "source": [
    "# print the sum of digits in a number\n",
    "# 12345\n",
    "#15\n",
    "num=input()\n",
    "s=0\n",
    "for each in num:\n",
    "    s+=int(each)\n",
    "print(s)"
   ]
  },
  {
   "cell_type": "code",
   "execution_count": null,
   "metadata": {},
   "outputs": [],
   "source": [
    "n=int(input())\n",
    "s2=0\n",
    "while n>0:\n",
    "    rem=n%10\n",
    "    s2+=rem\n",
    "    n//=10\n",
    "print(s2)\n",
    "    \n"
   ]
  },
  {
   "cell_type": "code",
   "execution_count": null,
   "metadata": {},
   "outputs": [],
   "source": [
    "10/3"
   ]
  },
  {
   "cell_type": "code",
   "execution_count": null,
   "metadata": {},
   "outputs": [],
   "source": [
    "10//3"
   ]
  },
  {
   "cell_type": "code",
   "execution_count": null,
   "metadata": {},
   "outputs": [],
   "source": [
    " # find the factors of a number\n",
    "# 20-->1,2,4,5,10\n",
    "# count of factors\n",
    "\n",
    "# 2. print the nth multiplication table\n",
    "m=int(input('Enter any no'))\n",
    "i=1\n",
    "while i<=20:\n",
    "    print(m,'X',i,'=',m*i)\n",
    "    i+=1"
   ]
  },
  {
   "cell_type": "code",
   "execution_count": null,
   "metadata": {},
   "outputs": [],
   "source": [
    "mul=int(input())\n",
    "for num in range(1,21):\n",
    "    print(mul,'x',num,'=',mul*num)"
   ]
  },
  {
   "cell_type": "code",
   "execution_count": null,
   "metadata": {},
   "outputs": [],
   "source": [
    "n=int(input())\n",
    "count=0\n",
    "for i in range(1,n):\n",
    "    if n%i==0:\n",
    "        print(i,end=\" \")\n",
    "        count+=1\n",
    "print()\n",
    "print('No of factors are ',4)"
   ]
  },
  {
   "cell_type": "code",
   "execution_count": null,
   "metadata": {},
   "outputs": [],
   "source": [
    "n=int(input())\n",
    "i=1\n",
    "print('Factors are..')\n",
    "while i<n:\n",
    "    if n%i==0:\n",
    "        print(i,end=' ')\n",
    "    i+=1\n"
   ]
  },
  {
   "cell_type": "code",
   "execution_count": null,
   "metadata": {},
   "outputs": [],
   "source": []
  }
 ],
 "metadata": {
  "kernelspec": {
   "display_name": "Python 3",
   "language": "python",
   "name": "python3"
  },
  "language_info": {
   "codemirror_mode": {
    "name": "ipython",
    "version": 3
   },
   "file_extension": ".py",
   "mimetype": "text/x-python",
   "name": "python",
   "nbconvert_exporter": "python",
   "pygments_lexer": "ipython3",
   "version": "3.7.4"
  }
 },
 "nbformat": 4,
 "nbformat_minor": 2
}
