{
 "cells": [
  {
   "cell_type": "code",
   "execution_count": 3,
   "metadata": {},
   "outputs": [],
   "source": [
    "bal=0\n",
    "def deposit(amount):\n",
    "    bal+=amount\n",
    "    \n",
    "def withdraw(amount):\n",
    "    if bal>=amount:\n",
    "        bal=amount\n",
    "    else:\n",
    "        print('Insufficient Amount')\n",
    "def balance_enquiry():\n",
    "    print('Your amount is',bal)\n",
    "    "
   ]
  },
  {
   "cell_type": "code",
   "execution_count": 4,
   "metadata": {
    "collapsed": true
   },
   "outputs": [
    {
     "ename": "UnboundLocalError",
     "evalue": "local variable 'bal' referenced before assignment",
     "output_type": "error",
     "traceback": [
      "\u001b[1;31m---------------------------------------------------------------------------\u001b[0m",
      "\u001b[1;31mUnboundLocalError\u001b[0m                         Traceback (most recent call last)",
      "\u001b[1;32m<ipython-input-4-9b3fc15f9c95>\u001b[0m in \u001b[0;36m<module>\u001b[1;34m\u001b[0m\n\u001b[1;32m----> 1\u001b[1;33m \u001b[0mdeposit\u001b[0m\u001b[1;33m(\u001b[0m\u001b[1;36m1000\u001b[0m\u001b[1;33m)\u001b[0m\u001b[1;33m\u001b[0m\u001b[1;33m\u001b[0m\u001b[0m\n\u001b[0m",
      "\u001b[1;32m<ipython-input-3-0269f6a811bc>\u001b[0m in \u001b[0;36mdeposit\u001b[1;34m(amount)\u001b[0m\n\u001b[0;32m      1\u001b[0m \u001b[0mbal\u001b[0m\u001b[1;33m=\u001b[0m\u001b[1;36m0\u001b[0m\u001b[1;33m\u001b[0m\u001b[1;33m\u001b[0m\u001b[0m\n\u001b[0;32m      2\u001b[0m \u001b[1;32mdef\u001b[0m \u001b[0mdeposit\u001b[0m\u001b[1;33m(\u001b[0m\u001b[0mamount\u001b[0m\u001b[1;33m)\u001b[0m\u001b[1;33m:\u001b[0m\u001b[1;33m\u001b[0m\u001b[1;33m\u001b[0m\u001b[0m\n\u001b[1;32m----> 3\u001b[1;33m     \u001b[0mbal\u001b[0m\u001b[1;33m+=\u001b[0m\u001b[0mamount\u001b[0m\u001b[1;33m\u001b[0m\u001b[1;33m\u001b[0m\u001b[0m\n\u001b[0m\u001b[0;32m      4\u001b[0m \u001b[1;33m\u001b[0m\u001b[0m\n\u001b[0;32m      5\u001b[0m \u001b[1;32mdef\u001b[0m \u001b[0mwithdraw\u001b[0m\u001b[1;33m(\u001b[0m\u001b[0mamount\u001b[0m\u001b[1;33m)\u001b[0m\u001b[1;33m:\u001b[0m\u001b[1;33m\u001b[0m\u001b[1;33m\u001b[0m\u001b[0m\n",
      "\u001b[1;31mUnboundLocalError\u001b[0m: local variable 'bal' referenced before assignment"
     ]
    }
   ],
   "source": [
    "deposit(1000)"
   ]
  },
  {
   "cell_type": "code",
   "execution_count": 2,
   "metadata": {},
   "outputs": [
    {
     "name": "stdout",
     "output_type": "stream",
     "text": [
      "Account holder:M.Ruthumma\n",
      "Mobile Number:8500602294\n",
      "Aadhar Number:233571152946\n",
      "Your account is created\n"
     ]
    }
   ],
   "source": [
    "import random as rn\n",
    "class Bank_Account:\n",
    "    def __init__(self):\n",
    "        self.balance=600\n",
    "        self.customers={}\n",
    "        \n",
    "    def create_account(self):\n",
    "        name=input('Account holder:')\n",
    "        mobile=int(input('Mobile Number:'))\n",
    "        aadhar=int(input('Aadhar Number:'))\n",
    "        account=rn.randint(60000000000,99999999999)\n",
    "        if name not in self.customers:\n",
    "            self.customers[name]=[mobile,account,self.balance,aadhar]\n",
    "            print('Your account is created')\n",
    "        else:\n",
    "            print('Account already exist')\n",
    "            \n",
    "    def customer_details(self,name):\n",
    "        if name in self.customers:\n",
    "            print(\"Customer details.\")\n",
    "            it=iter(self.customers[name])\n",
    "            print('Customer name:',name)\n",
    "            print('Mobile no:',next(it))\n",
    "            print('Account no:',next(it))\n",
    "            print('Initial Amount',next(it))\n",
    "            print('Aadhar:',next(it))\n",
    "        else:\n",
    "            print('You are not a customer')\n",
    "        \n",
    "    def deposite(self,name,amount):\n",
    "        if name in self.customers:\n",
    "            self.balance+=amount\n",
    "            print('Done successfully!')\n",
    "        else:\n",
    "            print('Not a customer')\n",
    "        \n",
    "    def withdraw(self,name,amount):\n",
    "        if self.balance>=amount:\n",
    "            self.balance-=amount\n",
    "            print('Okay!')\n",
    "            display=input('You want to see the remaining balance ?')\n",
    "            if display=='Yes' or 'yes':\n",
    "                print('Your remaining balance is',self.balance)\n",
    "            else:\n",
    "                return 0\n",
    "        else:\n",
    "            print('Insufficent amount')\n",
    "    \n",
    "    def balance_enquiry(self,name):\n",
    "        if name in self.customers:\n",
    "            print('Your amount is',self.balance)\n",
    "        else:print('You are not a customer')\n",
    "        \n",
    "    def total_customers(self):\n",
    "        for customer in self.customers:\n",
    "            print(customer)\n",
    "        \n",
    "ba=Bank_Account()\n",
    "ba.create_account()"
   ]
  },
  {
   "cell_type": "code",
   "execution_count": 3,
   "metadata": {},
   "outputs": [
    {
     "name": "stdout",
     "output_type": "stream",
     "text": [
      "Account holder:K Veera Vanitha\n",
      "Mobile Number:9640321741\n",
      "Aadhar Number:803493190\n",
      "Your account is created\n"
     ]
    }
   ],
   "source": [
    "ba.create_account()"
   ]
  },
  {
   "cell_type": "code",
   "execution_count": 4,
   "metadata": {},
   "outputs": [
    {
     "name": "stdout",
     "output_type": "stream",
     "text": [
      "Account holder:T Lakshmi\n",
      "Mobile Number:90875434342\n",
      "Aadhar Number:454678902993\n",
      "Your account is created\n"
     ]
    }
   ],
   "source": [
    "ba.create_account()"
   ]
  },
  {
   "cell_type": "code",
   "execution_count": 5,
   "metadata": {},
   "outputs": [
    {
     "name": "stdout",
     "output_type": "stream",
     "text": [
      "M.Ruthumma\n",
      "K Veera Vanitha\n",
      "T Lakshmi\n"
     ]
    }
   ],
   "source": [
    "ba.total_customers()"
   ]
  },
  {
   "cell_type": "code",
   "execution_count": 6,
   "metadata": {},
   "outputs": [
    {
     "name": "stdout",
     "output_type": "stream",
     "text": [
      "Customer details.\n",
      "Customer name: T Lakshmi\n",
      "Mobile no: 90875434342\n",
      "Account no: 67338734637\n",
      "Initial Amount 600\n",
      "Aadhar: 454678902993\n"
     ]
    }
   ],
   "source": [
    "ba.customer_details('T Lakshmi')"
   ]
  },
  {
   "cell_type": "code",
   "execution_count": 7,
   "metadata": {},
   "outputs": [
    {
     "name": "stdout",
     "output_type": "stream",
     "text": [
      "Done successfully!\n"
     ]
    }
   ],
   "source": [
    "ba.deposite('T Lakshmi',1000)"
   ]
  },
  {
   "cell_type": "code",
   "execution_count": 8,
   "metadata": {},
   "outputs": [
    {
     "name": "stdout",
     "output_type": "stream",
     "text": [
      "Your amount is 1600\n"
     ]
    }
   ],
   "source": [
    "ba.balance_enquiry('T Lakshmi')"
   ]
  },
  {
   "cell_type": "code",
   "execution_count": 13,
   "metadata": {},
   "outputs": [
    {
     "name": "stdout",
     "output_type": "stream",
     "text": [
      "You want to see the remaining balance ?yes\n",
      "Your remaining balance is 700\n"
     ]
    }
   ],
   "source": [
    "ba.withdraw('T Lakshmi',900)"
   ]
  },
  {
   "cell_type": "code",
   "execution_count": 9,
   "metadata": {},
   "outputs": [
    {
     "name": "stdout",
     "output_type": "stream",
     "text": [
      "You are not a customer\n"
     ]
    }
   ],
   "source": [
    "ba.customer_details('M Ruthu')"
   ]
  },
  {
   "cell_type": "code",
   "execution_count": 6,
   "metadata": {},
   "outputs": [],
   "source": [
    "d={'k':12,'k2':[3,4,5],'k4':89}"
   ]
  },
  {
   "cell_type": "code",
   "execution_count": 16,
   "metadata": {},
   "outputs": [
    {
     "data": {
      "text/plain": [
       "[3, 4, 5]"
      ]
     },
     "execution_count": 16,
     "metadata": {},
     "output_type": "execute_result"
    }
   ],
   "source": [
    "d['k2']"
   ]
  },
  {
   "cell_type": "code",
   "execution_count": 17,
   "metadata": {},
   "outputs": [
    {
     "name": "stdout",
     "output_type": "stream",
     "text": [
      "3\n",
      "4\n",
      "5\n"
     ]
    }
   ],
   "source": [
    "for ele in d['k2']:\n",
    "    print(ele)"
   ]
  },
  {
   "cell_type": "code",
   "execution_count": null,
   "metadata": {},
   "outputs": [],
   "source": []
  }
 ],
 "metadata": {
  "kernelspec": {
   "display_name": "Python 3",
   "language": "python",
   "name": "python3"
  },
  "language_info": {
   "codemirror_mode": {
    "name": "ipython",
    "version": 3
   },
   "file_extension": ".py",
   "mimetype": "text/x-python",
   "name": "python",
   "nbconvert_exporter": "python",
   "pygments_lexer": "ipython3",
   "version": "3.7.4"
  }
 },
 "nbformat": 4,
 "nbformat_minor": 2
}
