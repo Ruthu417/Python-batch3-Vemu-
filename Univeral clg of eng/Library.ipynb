{
 "cells": [
  {
   "cell_type": "markdown",
   "metadata": {},
   "source": [
    "#### Library\n",
    "- book arrangement\n",
    "    - Dept wise\n",
    "        - CSE\n",
    "        - ECE\n",
    "        - IT\n",
    "        - MECH\n",
    "        - CIVIL\n",
    "- book taking\n",
    "    - Select dept\n",
    "        - book name\n",
    "    - person details\n",
    "        - ID,Name,Dept\n",
    "- book return\n",
    "    - ID,Name and name of the book"
   ]
  },
  {
   "cell_type": "code",
   "execution_count": 20,
   "metadata": {
    "collapsed": true
   },
   "outputs": [
    {
     "name": "stdout",
     "output_type": "stream",
     "text": [
      "Departments\n",
      "(a) CSE\n",
      "(b) IT\n",
      "(c) ECE\n",
      "\n",
      "Select department:a\n"
     ]
    },
    {
     "ename": "KeyError",
     "evalue": "'a'",
     "output_type": "error",
     "traceback": [
      "\u001b[1;31m---------------------------------------------------------------------------\u001b[0m",
      "\u001b[1;31mKeyError\u001b[0m                                  Traceback (most recent call last)",
      "\u001b[1;32m<ipython-input-20-c5df298d45b1>\u001b[0m in \u001b[0;36m<module>\u001b[1;34m\u001b[0m\n\u001b[0;32m     12\u001b[0m \u001b[1;33m\u001b[0m\u001b[0m\n\u001b[0;32m     13\u001b[0m \u001b[0mlb\u001b[0m\u001b[1;33m=\u001b[0m\u001b[0mLibrary\u001b[0m\u001b[1;33m(\u001b[0m\u001b[1;33m)\u001b[0m\u001b[1;33m\u001b[0m\u001b[1;33m\u001b[0m\u001b[0m\n\u001b[1;32m---> 14\u001b[1;33m \u001b[0mprint\u001b[0m\u001b[1;33m(\u001b[0m\u001b[0mlb\u001b[0m\u001b[1;33m.\u001b[0m\u001b[0mtaking_book\u001b[0m\u001b[1;33m(\u001b[0m\u001b[1;34m'N130417'\u001b[0m\u001b[1;33m,\u001b[0m\u001b[1;34m'M Ruthu'\u001b[0m\u001b[1;33m)\u001b[0m\u001b[1;33m)\u001b[0m\u001b[1;33m\u001b[0m\u001b[1;33m\u001b[0m\u001b[0m\n\u001b[0m",
      "\u001b[1;32m<ipython-input-20-c5df298d45b1>\u001b[0m in \u001b[0;36mtaking_book\u001b[1;34m(lib, ID, st_name)\u001b[0m\n\u001b[0;32m      9\u001b[0m         \u001b[0mdept\u001b[0m\u001b[1;33m=\u001b[0m\u001b[0minput\u001b[0m\u001b[1;33m(\u001b[0m\u001b[1;34m'Select department:'\u001b[0m\u001b[1;33m)\u001b[0m\u001b[1;33m\u001b[0m\u001b[1;33m\u001b[0m\u001b[0m\n\u001b[0;32m     10\u001b[0m         \u001b[1;32mif\u001b[0m \u001b[0mdept\u001b[0m\u001b[1;33m==\u001b[0m\u001b[1;34m'a'\u001b[0m\u001b[1;33m:\u001b[0m\u001b[1;33m\u001b[0m\u001b[1;33m\u001b[0m\u001b[0m\n\u001b[1;32m---> 11\u001b[1;33m             \u001b[0mprint\u001b[0m\u001b[1;33m(\u001b[0m\u001b[0mlib\u001b[0m\u001b[1;33m.\u001b[0m\u001b[0mbooks\u001b[0m\u001b[1;33m[\u001b[0m\u001b[0mdept\u001b[0m\u001b[1;33m]\u001b[0m\u001b[1;33m)\u001b[0m\u001b[1;33m\u001b[0m\u001b[1;33m\u001b[0m\u001b[0m\n\u001b[0m\u001b[0;32m     12\u001b[0m \u001b[1;33m\u001b[0m\u001b[0m\n\u001b[0;32m     13\u001b[0m \u001b[0mlb\u001b[0m\u001b[1;33m=\u001b[0m\u001b[0mLibrary\u001b[0m\u001b[1;33m(\u001b[0m\u001b[1;33m)\u001b[0m\u001b[1;33m\u001b[0m\u001b[1;33m\u001b[0m\u001b[0m\n",
      "\u001b[1;31mKeyError\u001b[0m: 'a'"
     ]
    }
   ],
   "source": [
    "books={'CSE':['C','Java','Python','DS','COA','OS'],'IT':['C','Hardware','Mechanics'],\n",
    "       'ECE':['Java','Electronics','Digital & Analog Systems']}\n",
    "def book_arragement(books):\n",
    "    \n",
    "    \n",
    "def book_take(id,name):\n",
    "    dept=input('Your department:')\n",
    "    if dept in books:\n",
    "        id=input('Student ID:')\n",
    "        name=input('Your name:')\n",
    "    \n",
    "def book_return(boo_name,id):\n",
    "    "
   ]
  },
  {
   "cell_type": "code",
   "execution_count": null,
   "metadata": {},
   "outputs": [],
   "source": []
  },
  {
   "cell_type": "code",
   "execution_count": null,
   "metadata": {},
   "outputs": [],
   "source": [
    "class Question:\n",
    "    def __init__(self,prompt,answer):\n",
    "        self.prompt=prompt\n",
    "        self.answer=answer\n",
    "        \n",
    "\n",
    "question_prompts=[\"What color are Apples?\\n(a) Red/Green\\n(b) Purple\\n(c) Orange\\n\\n\",\n",
    "                  \"What color are Bananas?\\n(a) Teal\\n(b) Magneta\\n(c) Yellow\\n\\n\",\n",
    "                  \"What color are Grapes?\\n(a) Black\\n(b) White/Green\\n(c) Yellow\\n\\n\"]\n",
    "\n",
    "questions=[Question(question_prompts[0],'a'),\n",
    "           Question(question_prompts[1],'c'),\n",
    "           Question(question_prompts[2],'b')]\n",
    "                     \n",
    "def run_test(questions):\n",
    "    score=0\n",
    "    for q in questions:\n",
    "        answer=input(q.prompt)\n",
    "        if answer==q.answer:\n",
    "            score+=1\n",
    "    print('You got',str(score),'/',str(len(questions)),'correct')\n",
    "    \n",
    "\n",
    "run_test(questions)"
   ]
  }
 ],
 "metadata": {
  "kernelspec": {
   "display_name": "Python 3",
   "language": "python",
   "name": "python3"
  },
  "language_info": {
   "codemirror_mode": {
    "name": "ipython",
    "version": 3
   },
   "file_extension": ".py",
   "mimetype": "text/x-python",
   "name": "python",
   "nbconvert_exporter": "python",
   "pygments_lexer": "ipython3",
   "version": "3.7.4"
  }
 },
 "nbformat": 4,
 "nbformat_minor": 2
}
