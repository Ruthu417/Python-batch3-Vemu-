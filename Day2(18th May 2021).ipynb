{
 "cells": [
  {
   "cell_type": "markdown",
   "metadata": {},
   "source": [
    "### Keywords\n",
    "- reserved word which has a special meaning & purpose\n",
    "- identifier or variable\n",
    "- it is highlighted \n",
    "- 35 keywords in python"
   ]
  },
  {
   "cell_type": "code",
   "execution_count": 1,
   "metadata": {
    "collapsed": true
   },
   "outputs": [
    {
     "ename": "SyntaxError",
     "evalue": "invalid syntax (<ipython-input-1-0d15b3b4c786>, line 2)",
     "output_type": "error",
     "traceback": [
      "\u001b[1;36m  File \u001b[1;32m\"<ipython-input-1-0d15b3b4c786>\"\u001b[1;36m, line \u001b[1;32m2\u001b[0m\n\u001b[1;33m    and-- and operation\u001b[0m\n\u001b[1;37m      ^\u001b[0m\n\u001b[1;31mSyntaxError\u001b[0m\u001b[1;31m:\u001b[0m invalid syntax\n"
     ]
    }
   ],
   "source": [
    "# a to z\n",
    "and-- and operation\n",
    "as-- alias\n",
    "break control statement\n",
    "continue\n",
    "class \n",
    "del deletes the iterable\n",
    "def function\n",
    "except \n",
    "else\n",
    "elif\n",
    "if\n",
    "is identity operator\n",
    "import \n",
    "not \n",
    "or \n",
    "pass pauses the execution for 1 sec of time\n",
    "try\n",
    "while\n",
    "from (from whole import sub)\n",
    "for\n",
    "raise user can raise\n",
    "lambda  anynomus function\n",
    "etc..."
   ]
  },
  {
   "cell_type": "code",
   "execution_count": 2,
   "metadata": {
    "collapsed": true
   },
   "outputs": [
    {
     "name": "stdout",
     "output_type": "stream",
     "text": [
      "['False', 'None', 'True', 'and', 'as', 'assert', 'async', 'await', 'break', 'class', 'continue', 'def', 'del', 'elif', 'else', 'except', 'finally', 'for', 'from', 'global', 'if', 'import', 'in', 'is', 'lambda', 'nonlocal', 'not', 'or', 'pass', 'raise', 'return', 'try', 'while', 'with', 'yield']\n"
     ]
    }
   ],
   "source": [
    "import keyword \n",
    "kn=keyword.kwlist\n",
    "print(kn)"
   ]
  },
  {
   "cell_type": "markdown",
   "metadata": {},
   "source": [
    "#### Operators in Python\n",
    "- any thing that operation between operands\n",
    "- a+b:\n",
    "    - + is the operator performs addition on operands a & b\n",
    "- **arithmetic operators**\n",
    "    - +,-,/,*,** (power),%\n",
    "- **boolean operators**\n",
    "    - False or True/0 or 1\n",
    "- **comparisional operators**\n",
    "    - <,<=,>,>=,==,!=\n",
    "- **assignment operators**\n",
    "    - =,+=,-=,*=,/=\n",
    "- **membership operators**\n",
    "    - in, not in\n",
    "- **logical operators**\n",
    "    - and ,or\n",
    "- **identity operators**\n",
    "    - is, is not"
   ]
  },
  {
   "cell_type": "markdown",
   "metadata": {},
   "source": [
    "dynamic reading from the user"
   ]
  },
  {
   "cell_type": "code",
   "execution_count": 4,
   "metadata": {},
   "outputs": [
    {
     "name": "stdout",
     "output_type": "stream",
     "text": [
      "value stored in val is  10\n"
     ]
    }
   ],
   "source": [
    "val=10 # static declaration,fixed\n",
    "print(\"value stored in val is \",val)"
   ]
  },
  {
   "cell_type": "code",
   "execution_count": 7,
   "metadata": {},
   "outputs": [
    {
     "name": "stdout",
     "output_type": "stream",
     "text": [
      "pallavi\n"
     ]
    }
   ],
   "source": [
    "name=\"pallavi\"\n",
    "print(name)"
   ]
  },
  {
   "cell_type": "markdown",
   "metadata": {},
   "source": [
    "#### Dynamic inputs\n",
    "- input():pre defined function\n",
    "- string type of data\n",
    "- integer type:int(input())\n",
    "- float type:float(input())"
   ]
  },
  {
   "cell_type": "code",
   "execution_count": 12,
   "metadata": {},
   "outputs": [
    {
     "name": "stdout",
     "output_type": "stream",
     "text": [
      "Enter your college name:VEMU\n",
      "Your college name is VEMU\n"
     ]
    }
   ],
   "source": [
    "# write a python program to read your clg name and display it\n",
    "clg=input(\"Enter your college name:\")\n",
    "print(\"Your college name is\",clg)"
   ]
  },
  {
   "cell_type": "code",
   "execution_count": 15,
   "metadata": {},
   "outputs": [
    {
     "name": "stdout",
     "output_type": "stream",
     "text": [
      "Enter the first number:45\n",
      "Enter the second number:20\n",
      "45 20\n",
      "addition= 65\n",
      "difference= 25\n",
      "product= 900\n",
      "co-efficient= 2.25\n",
      "remainder= 5\n",
      "power= 1159445329576199417209625244140625\n"
     ]
    }
   ],
   "source": [
    "# read 2 integers from user and perform all arithmetic operations\n",
    "first=int(input(\"Enter the first number:\"))\n",
    "second=int(input(\"Enter the second number:\"))\n",
    "print(first,second) # outputs can be separated by ','\n",
    "s=first+second\n",
    "d=first-second\n",
    "pt=first*second\n",
    "co=first/second\n",
    "r=first%second\n",
    "pr=first**second\n",
    "print(\"addition=\",s)\n",
    "print(\"difference=\",d)\n",
    "print(\"product=\",pt)\n",
    "print(\"co-efficient=\",co)\n",
    "print(\"remainder=\",r)\n",
    "print(\"power=\",pr)"
   ]
  },
  {
   "cell_type": "code",
   "execution_count": 16,
   "metadata": {
    "collapsed": true
   },
   "outputs": [
    {
     "name": "stdout",
     "output_type": "stream",
     "text": [
      "Enter the first number:45\n",
      "Enter the second number:20\n",
      "45 20\n",
      "addition= 65\n",
      "difference= 25\n",
      "product= 900\n",
      "co-efficient= 2.25\n",
      "remainder= 5\n",
      "power= 1159445329576199417209625244140625\n"
     ]
    }
   ],
   "source": [
    "# read 2 integers from user and perform all arithmetic operations\n",
    "first=int(input(\"Enter the first number:\"))\n",
    "second=int(input(\"Enter the second number:\"))\n",
    "print(first,second) # outputs can be separated by ','\n",
    "print(\"addition=\",first+second)\n",
    "print(\"difference=\",first-second)\n",
    "print(\"product=\",first*second)\n",
    "print(\"co-efficient=\",first/second)\n",
    "print(\"remainder=\",first%second)\n",
    "print(\"power=\",first**second)"
   ]
  },
  {
   "cell_type": "code",
   "execution_count": 19,
   "metadata": {
    "collapsed": true
   },
   "outputs": [
    {
     "name": "stdout",
     "output_type": "stream",
     "text": [
      "enter the value:346543\n"
     ]
    },
    {
     "data": {
      "text/plain": [
       "346543.0"
      ]
     },
     "execution_count": 19,
     "metadata": {},
     "output_type": "execute_result"
    }
   ],
   "source": [
    "cgpa=float(input(\"enter the value:\")) # float ga\n",
    "cgpa"
   ]
  },
  {
   "cell_type": "markdown",
   "metadata": {},
   "source": [
    "#### Type Casting\n",
    "- means Type Coversion\n",
    "- 2 types :implicit and explicit\n",
    "- python allows implicit conversion by default\n",
    "- implicit casting:\n",
    "    - default conversion by the processor\n",
    "- explicit conversion:\n",
    "    - conversion by the user/programmer"
   ]
  },
  {
   "cell_type": "code",
   "execution_count": 22,
   "metadata": {},
   "outputs": [
    {
     "name": "stdout",
     "output_type": "stream",
     "text": [
      "97.4\n"
     ]
    }
   ],
   "source": [
    "x=10 # no type declaration\n",
    "y=87.4\n",
    "print(x+y)# float value at the end,implicit conversion"
   ]
  },
  {
   "cell_type": "code",
   "execution_count": 2,
   "metadata": {},
   "outputs": [
    {
     "name": "stdout",
     "output_type": "stream",
     "text": [
      "90\n",
      "34\n",
      "124.0\n",
      "124.0\n"
     ]
    }
   ],
   "source": [
    "# Explicit Conversion\n",
    "f,s=int(input()),float(input()) # f is int,s is float\n",
    "# addition\n",
    "fl=float(f)\n",
    "print(f+s)\n",
    "print(fl+s)"
   ]
  },
  {
   "cell_type": "code",
   "execution_count": 3,
   "metadata": {
    "collapsed": true
   },
   "outputs": [
    {
     "name": "stdout",
     "output_type": "stream",
     "text": [
      "<class 'int'>\n"
     ]
    },
    {
     "data": {
      "text/plain": [
       "str"
      ]
     },
     "execution_count": 3,
     "metadata": {},
     "output_type": "execute_result"
    }
   ],
   "source": [
    "# conversion from str to int\n",
    "num=123\n",
    "st=\"123\" # into directly\n",
    "print(type(num))\n",
    "type(st)"
   ]
  },
  {
   "cell_type": "code",
   "execution_count": 6,
   "metadata": {},
   "outputs": [
    {
     "data": {
      "text/plain": [
       "123"
      ]
     },
     "execution_count": 6,
     "metadata": {},
     "output_type": "execute_result"
    }
   ],
   "source": [
    "#can you convert \"your name \" into integer ?\n",
    "n=int(st)\n",
    "n"
   ]
  },
  {
   "cell_type": "code",
   "execution_count": 8,
   "metadata": {},
   "outputs": [
    {
     "data": {
      "text/plain": [
       "'123'"
      ]
     },
     "execution_count": 8,
     "metadata": {},
     "output_type": "execute_result"
    }
   ],
   "source": [
    "st"
   ]
  },
  {
   "cell_type": "markdown",
   "metadata": {},
   "source": [
    "#### Data types\n",
    "- type / category to which the variable/value belongs\n",
    "- int\n",
    "    - int() # pre defined function\n",
    "- float\n",
    "    - float() # value\n",
    "- string\n",
    "    - str() # input() # string"
   ]
  },
  {
   "cell_type": "code",
   "execution_count": 10,
   "metadata": {},
   "outputs": [
    {
     "data": {
      "text/plain": [
       "True"
      ]
     },
     "execution_count": 10,
     "metadata": {},
     "output_type": "execute_result"
    }
   ],
   "source": [
    "# Boolean operators:true/false\n",
    "n is 123 # boolean\n",
    "# identity operator"
   ]
  },
  {
   "cell_type": "code",
   "execution_count": 11,
   "metadata": {},
   "outputs": [
    {
     "data": {
      "text/plain": [
       "True"
      ]
     },
     "execution_count": 11,
     "metadata": {},
     "output_type": "execute_result"
    }
   ],
   "source": [
    "n is not 10"
   ]
  },
  {
   "cell_type": "code",
   "execution_count": 12,
   "metadata": {},
   "outputs": [
    {
     "data": {
      "text/plain": [
       "True"
      ]
     },
     "execution_count": 12,
     "metadata": {},
     "output_type": "execute_result"
    }
   ],
   "source": [
    "n!=10"
   ]
  },
  {
   "cell_type": "code",
   "execution_count": 13,
   "metadata": {},
   "outputs": [
    {
     "data": {
      "text/plain": [
       "False"
      ]
     },
     "execution_count": 13,
     "metadata": {},
     "output_type": "execute_result"
    }
   ],
   "source": [
    "n!=123"
   ]
  },
  {
   "cell_type": "code",
   "execution_count": 14,
   "metadata": {},
   "outputs": [],
   "source": [
    "n,m=10,35\n",
    "n=m"
   ]
  },
  {
   "cell_type": "code",
   "execution_count": 15,
   "metadata": {},
   "outputs": [
    {
     "data": {
      "text/plain": [
       "35"
      ]
     },
     "execution_count": 15,
     "metadata": {},
     "output_type": "execute_result"
    }
   ],
   "source": [
    "n"
   ]
  },
  {
   "cell_type": "code",
   "execution_count": 16,
   "metadata": {},
   "outputs": [
    {
     "data": {
      "text/plain": [
       "35"
      ]
     },
     "execution_count": 16,
     "metadata": {},
     "output_type": "execute_result"
    }
   ],
   "source": [
    "m"
   ]
  },
  {
   "cell_type": "code",
   "execution_count": 17,
   "metadata": {},
   "outputs": [
    {
     "data": {
      "text/plain": [
       "True"
      ]
     },
     "execution_count": 17,
     "metadata": {},
     "output_type": "execute_result"
    }
   ],
   "source": [
    "n is m"
   ]
  },
  {
   "cell_type": "code",
   "execution_count": 18,
   "metadata": {},
   "outputs": [
    {
     "data": {
      "text/plain": [
       "'VEMU'"
      ]
     },
     "execution_count": 18,
     "metadata": {},
     "output_type": "execute_result"
    }
   ],
   "source": [
    "clg=\"VEMU\"\n",
    "clg"
   ]
  },
  {
   "cell_type": "code",
   "execution_count": 19,
   "metadata": {},
   "outputs": [
    {
     "data": {
      "text/plain": [
       "False"
      ]
     },
     "execution_count": 19,
     "metadata": {},
     "output_type": "execute_result"
    }
   ],
   "source": [
    "\"A\" in clg # "
   ]
  },
  {
   "cell_type": "code",
   "execution_count": 20,
   "metadata": {},
   "outputs": [
    {
     "data": {
      "text/plain": [
       "True"
      ]
     },
     "execution_count": 20,
     "metadata": {},
     "output_type": "execute_result"
    }
   ],
   "source": [
    "\"E\" in \"VEMU\""
   ]
  },
  {
   "cell_type": "code",
   "execution_count": 21,
   "metadata": {},
   "outputs": [
    {
     "data": {
      "text/plain": [
       "False"
      ]
     },
     "execution_count": 21,
     "metadata": {},
     "output_type": "execute_result"
    }
   ],
   "source": [
    "\"V\" not in \"VEMU\" # membership operator"
   ]
  },
  {
   "cell_type": "code",
   "execution_count": 22,
   "metadata": {
    "collapsed": true
   },
   "outputs": [
    {
     "ename": "SyntaxError",
     "evalue": "invalid syntax (<ipython-input-22-f2188294318b>, line 1)",
     "output_type": "error",
     "traceback": [
      "\u001b[1;36m  File \u001b[1;32m\"<ipython-input-22-f2188294318b>\"\u001b[1;36m, line \u001b[1;32m1\u001b[0m\n\u001b[1;33m    AND: True,False\u001b[0m\n\u001b[1;37m             ^\u001b[0m\n\u001b[1;31mSyntaxError\u001b[0m\u001b[1;31m:\u001b[0m invalid syntax\n"
     ]
    }
   ],
   "source": [
    "AND: True,False\n",
    "OR:False,True"
   ]
  },
  {
   "cell_type": "code",
   "execution_count": 26,
   "metadata": {},
   "outputs": [
    {
     "data": {
      "text/plain": [
       "False"
      ]
     },
     "execution_count": 26,
     "metadata": {},
     "output_type": "execute_result"
    }
   ],
   "source": [
    "a,b=10,60\n",
    "c,d=90,39\n",
    "(a is 10) and (c is 80) # 1 && 0"
   ]
  },
  {
   "cell_type": "code",
   "execution_count": 27,
   "metadata": {},
   "outputs": [
    {
     "data": {
      "text/plain": [
       "True"
      ]
     },
     "execution_count": 27,
     "metadata": {},
     "output_type": "execute_result"
    }
   ],
   "source": [
    "a is 10 or c is 56 # True"
   ]
  },
  {
   "cell_type": "markdown",
   "metadata": {},
   "source": [
    "### Conditionals in Python\n",
    "- we put statements under some condition\n",
    "- if,else,elif\n",
    "- syntax:\n",
    "    - if condition:\n",
    "        - statemenst goes here"
   ]
  },
  {
   "cell_type": "code",
   "execution_count": 28,
   "metadata": {},
   "outputs": [
    {
     "name": "stdout",
     "output_type": "stream",
     "text": [
      "even\n"
     ]
    }
   ],
   "source": [
    "# program to check the even number possibility\n",
    "even=80\n",
    "if even%2==0:\n",
    "    print(\"even\")"
   ]
  },
  {
   "cell_type": "code",
   "execution_count": 32,
   "metadata": {},
   "outputs": [
    {
     "name": "stdout",
     "output_type": "stream",
     "text": [
      "Enter the number:9\n",
      "Odd\n"
     ]
    }
   ],
   "source": [
    "d=int(input(\"Enter the number:\"))\n",
    "if d%2 is 0:\n",
    "    print(\"Even\")\n",
    "else:print(\"Odd\") # single"
   ]
  },
  {
   "cell_type": "code",
   "execution_count": 34,
   "metadata": {},
   "outputs": [
    {
     "name": "stdout",
     "output_type": "stream",
     "text": [
      "810\n",
      "1098\n",
      "873\n",
      "second is greatest 1098\n"
     ]
    }
   ],
   "source": [
    "# read 3 numbers from user and print the largest number\n",
    "x=int(input())\n",
    "y=int(input())\n",
    "z=int(input())\n",
    "#610,570,810\n",
    "if x>y and x>z: # x<y and x<z\n",
    "    print(\"first is greatest\",x)\n",
    "elif y>z and y>x:\n",
    "    print(\"second is greatest\",y)\n",
    "else:print(\"third is greatest\",z)"
   ]
  },
  {
   "cell_type": "code",
   "execution_count": 36,
   "metadata": {},
   "outputs": [
    {
     "name": "stdout",
     "output_type": "stream",
     "text": [
      "14\n",
      "Positive integer\n"
     ]
    }
   ],
   "source": [
    "# read an integer from user and print whether it is positive or negative\n",
    "num=int(input())\n",
    "#>0 and <0\n",
    "if num>0:\n",
    "    print(\"Positive integer\")\n",
    "elif num<0:\n",
    "    print(\"Negative integer\")\n",
    "else:\n",
    "    print(\"It is non-negative\")"
   ]
  },
  {
   "cell_type": "code",
   "execution_count": null,
   "metadata": {},
   "outputs": [],
   "source": [
    "# read the character from user, vowel or consonant"
   ]
  }
 ],
 "metadata": {
  "kernelspec": {
   "display_name": "Python 3",
   "language": "python",
   "name": "python3"
  },
  "language_info": {
   "codemirror_mode": {
    "name": "ipython",
    "version": 3
   },
   "file_extension": ".py",
   "mimetype": "text/x-python",
   "name": "python",
   "nbconvert_exporter": "python",
   "pygments_lexer": "ipython3",
   "version": "3.7.4"
  }
 },
 "nbformat": 4,
 "nbformat_minor": 2
}
